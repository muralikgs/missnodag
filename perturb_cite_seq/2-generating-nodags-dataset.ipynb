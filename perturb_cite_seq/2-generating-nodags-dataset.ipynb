{
 "cells": [
  {
   "cell_type": "code",
   "execution_count": 8,
   "id": "369935a6",
   "metadata": {},
   "outputs": [],
   "source": [
    "import numpy as np \n",
    "from matplotlib import pyplot as plt \n",
    "import scanpy as sc\n",
    "import pandas as pd\n",
    "import scipy.sparse as sp"
   ]
  },
  {
   "cell_type": "code",
   "execution_count": 9,
   "id": "8b5baa95",
   "metadata": {},
   "outputs": [],
   "source": [
    "control_path = \"../../perturb-cite-seq/SCP1064/ready/control/gene_filtered_adata.h5ad\"\n",
    "cocult_path = \"../../perturb-cite-seq/SCP1064/ready/cocult/gene_filtered_adata.h5ad\"\n",
    "ifn_path = \"../../perturb-cite-seq/SCP1064/ready/ifn/gene_filtered_adata.h5ad\""
   ]
  },
  {
   "cell_type": "code",
   "execution_count": 10,
   "id": "4bd32bed",
   "metadata": {},
   "outputs": [],
   "source": [
    "def generate_nodags_data(path):\n",
    "\n",
    "    adata = sc.read_h5ad(path)\n",
    "    data = sp.csr_matrix.toarray(adata.X)\n",
    "\n",
    "    final_genes = adata.var.index\n",
    "\n",
    "    datasets = []\n",
    "\n",
    "    for gene in final_genes:\n",
    "        datasets.append(\n",
    "            data[adata.obs['targets'] == gene, :]\n",
    "        )\n",
    "\n",
    "    obs_data = data[adata.obs['targets'] == '',:]\n",
    "    obs_data_mu = obs_data.mean(axis=0)\n",
    "\n",
    "    dataset_centered = list()\n",
    "    for dataset in datasets:\n",
    "        dataset_centered.append(\n",
    "            dataset - obs_data_mu\n",
    "        )\n",
    "\n",
    "    intervention_sets = [[i] for i in range(61)]\n",
    "    \n",
    "    return dataset_centered, intervention_sets"
   ]
  },
  {
   "cell_type": "code",
   "execution_count": 11,
   "id": "afcf40fb",
   "metadata": {},
   "outputs": [],
   "source": [
    "control_datasets, control_interventions = generate_nodags_data(\"../../perturb-cite-seq/SCP1064/ready/control/gene_filtered_adata.h5ad\")\n",
    "cocult_datasets, cocult_interventions = generate_nodags_data(\"../../perturb-cite-seq/SCP1064/ready/cocult/gene_filtered_adata.h5ad\")\n",
    "ifn_datasets, ifn_interventions = generate_nodags_data(\"../../perturb-cite-seq/SCP1064/ready/ifn/gene_filtered_adata.h5ad\")"
   ]
  },
  {
   "cell_type": "code",
   "execution_count": 12,
   "id": "ea7df5d9",
   "metadata": {},
   "outputs": [],
   "source": [
    "# saving control data\n",
    "for i, dataset in enumerate(control_datasets):\n",
    "    np.save(\"../../data/datasets/perturb-cite-seq/control/dataset_{}.npy\".format(i), dataset)\n",
    "np.save(\"../../data/datasets/perturb-cite-seq/control/intervention_sets.npy\", control_interventions)\n"
   ]
  },
  {
   "cell_type": "code",
   "execution_count": 13,
   "id": "d53bd891",
   "metadata": {},
   "outputs": [],
   "source": [
    "# saving cocult data\n",
    "for i, dataset in enumerate(cocult_datasets):\n",
    "    np.save(\"../../data/datasets/perturb-cite-seq/cocult/dataset_{}.npy\".format(i), dataset)\n",
    "np.save(\"../../data/datasets/perturb-cite-seq/cocult/intervention_sets.npy\", cocult_interventions)\n"
   ]
  },
  {
   "cell_type": "code",
   "execution_count": 14,
   "id": "46c1eb3e",
   "metadata": {},
   "outputs": [],
   "source": [
    "# saving control data\n",
    "for i, dataset in enumerate(ifn_datasets):\n",
    "    np.save(\"../../data/datasets/perturb-cite-seq/ifn/dataset_{}.npy\".format(i), dataset)\n",
    "np.save(\"../../data/datasets/perturb-cite-seq/ifn/intervention_sets.npy\", ifn_interventions)\n"
   ]
  },
  {
   "cell_type": "code",
   "execution_count": null,
   "id": "a811f3f7",
   "metadata": {},
   "outputs": [],
   "source": []
  }
 ],
 "metadata": {
  "kernelspec": {
   "display_name": "Python [conda env:.conda-nodags-flow]",
   "language": "python",
   "name": "conda-env-.conda-nodags-flow-py"
  },
  "language_info": {
   "codemirror_mode": {
    "name": "ipython",
    "version": 3
   },
   "file_extension": ".py",
   "mimetype": "text/x-python",
   "name": "python",
   "nbconvert_exporter": "python",
   "pygments_lexer": "ipython3",
   "version": "3.10.8"
  }
 },
 "nbformat": 4,
 "nbformat_minor": 5
}
