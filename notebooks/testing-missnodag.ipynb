{
 "cells": [
  {
   "cell_type": "code",
   "execution_count": null,
   "metadata": {},
   "outputs": [],
   "source": [
    "import numpy as np \n",
    "from matplotlib import pyplot as plt \n",
    "import os \n",
    "import networkx as nx\n",
    "import torch"
   ]
  },
  {
   "cell_type": "code",
   "execution_count": 3,
   "metadata": {},
   "outputs": [],
   "source": [
    "project_dir = '../'\n",
    "\n",
    "os.chdir(project_dir)"
   ]
  },
  {
   "cell_type": "code",
   "execution_count": 30,
   "metadata": {},
   "outputs": [],
   "source": [
    "from datagen.missingData import mgraph, missing_value_dataset \n",
    "from datagen.graph import DirectedGraphGenerator\n",
    "from datagen.structuralModels import linearSEM\n",
    "\n",
    "from models.nodags.missing_data_model import missModel\n",
    "from models.nodags.functions import gumbelSoftMLP\n",
    "from models.nodags.resblock import iResBlock\n",
    "from models.nodags.trainer import Trainer\n",
    "\n",
    "from utils.error_metrics import *"
   ]
  },
  {
   "cell_type": "markdown",
   "metadata": {},
   "source": [
    "## Generate Graph and Data"
   ]
  },
  {
   "cell_type": "code",
   "execution_count": null,
   "metadata": {},
   "outputs": [],
   "source": [
    "n_nodes = 10\n",
    "graph_gen = DirectedGraphGenerator(\n",
    "    nodes = n_nodes,\n",
    "    expected_density = 2, \n",
    "    enforce_dag=False\n",
    ")\n",
    "\n",
    "graph = graph_gen()\n",
    "\n",
    "pos = nx.circular_layout(graph)\n",
    "\n",
    "fig, axs = plt.subplots(1)\n",
    "\n",
    "nx.draw(graph, pos=pos, with_labels=True, ax=axs)"
   ]
  },
  {
   "cell_type": "code",
   "execution_count": 18,
   "metadata": {},
   "outputs": [],
   "source": [
    "sem = linearSEM(\n",
    "    graph=graph,\n",
    "    abs_weight_low=0.6,\n",
    "    noise_scale=0.1,\n",
    "    contractive=True\n",
    ")\n",
    "\n",
    "intervention_targets = [[i] for i in range(n_nodes)]\n",
    "intervention_datasets = list()\n",
    "\n",
    "for target in intervention_targets:\n",
    "    intervention_datasets.append(\n",
    "        sem.generateData(n_samples=1000, intervention_set=target)\n",
    "    )"
   ]
  },
  {
   "cell_type": "code",
   "execution_count": 19,
   "metadata": {},
   "outputs": [],
   "source": [
    "mod_graph = mgraph(\n",
    "    obs_graph=graph,\n",
    "    sem=sem,\n",
    "    missing_model='obs-only',\n",
    "    p=0.1, \n",
    "    max_variance=0.1,\n",
    "    is_mcar=False,\n",
    "    max_child=2\n",
    ")"
   ]
  },
  {
   "cell_type": "code",
   "execution_count": null,
   "metadata": {},
   "outputs": [],
   "source": [
    "fig, axs = plt.subplots(1)\n",
    "\n",
    "vmax = np.abs(mod_graph.m_coefs).max()\n",
    "im = axs.imshow(mod_graph.m_coefs, vmin=-vmax, vmax=vmax, cmap='bwr')\n",
    "\n",
    "_ = fig.colorbar(im)"
   ]
  },
  {
   "cell_type": "code",
   "execution_count": 21,
   "metadata": {},
   "outputs": [],
   "source": [
    "interventional_datasets = list()\n",
    "\n",
    "for targets, dataset in zip(intervention_targets, intervention_datasets):\n",
    "\n",
    "    missing_mask, dataset_missing = mod_graph.generatemDataFromSamples(\n",
    "        X=dataset,\n",
    "        intervention_set=targets\n",
    "    )\n",
    "    \n",
    "    interventional_datasets.append((dataset, missing_mask, dataset_missing))\n",
    "    \n",
    "training_dataset = missing_value_dataset(interventional_datasets, intervention_targets)"
   ]
  },
  {
   "cell_type": "markdown",
   "metadata": {},
   "source": [
    "## Initializing the model"
   ]
  },
  {
   "cell_type": "code",
   "execution_count": 22,
   "metadata": {},
   "outputs": [],
   "source": [
    "causal_mech = gumbelSoftMLP(\n",
    "    n_nodes=n_nodes, \n",
    "    lip_constant=0.9\n",
    ")\n",
    "\n",
    "nodags = iResBlock(\n",
    "    func=causal_mech, \n",
    "    n_power_series=None, \n",
    "    precondition=True\n",
    ")\n",
    "\n",
    "device = torch.device(\"cuda\" if torch.cuda.is_available() else \"cpu\")\n",
    "\n",
    "nodags = nodags.to(device)\n",
    "\n",
    "miss_model = missModel(nodags, is_mcar=False) # Set is_mcar to True to use MissDAG"
   ]
  },
  {
   "cell_type": "markdown",
   "metadata": {},
   "source": [
    "## Training"
   ]
  },
  {
   "cell_type": "code",
   "execution_count": 23,
   "metadata": {},
   "outputs": [],
   "source": [
    "model_trainer = Trainer(\n",
    "    miss_model=miss_model,\n",
    "    lr=1e-1,\n",
    "    lambda_c=1e-2,\n",
    "    lambda_dag=1.0,\n",
    "    dag_method=\"expm\",\n",
    "    obs=False # set to True to use MissDAG\n",
    "    max_epochs=100,\n",
    "    batch_size=1024,\n",
    "    n_lip_iters=5\n",
    ")"
   ]
  },
  {
   "cell_type": "code",
   "execution_count": 24,
   "metadata": {},
   "outputs": [],
   "source": [
    "X = training_dataset.X_miss \n",
    "R = training_dataset.R\n",
    "S = training_dataset.intervention_mask\n",
    "\n",
    "model_trainer.learn_missingness_mech(\n",
    "    data=X,\n",
    "    R=R,\n",
    "    intervention_mask=S, # When using MissDAG the intervention mask is set to [None] since MissDAG does not handle interventions\n",
    "    C=0.9\n",
    ")"
   ]
  },
  {
   "cell_type": "code",
   "execution_count": null,
   "metadata": {},
   "outputs": [],
   "source": [
    "def normalize_mat(mat):\n",
    "\n",
    "    return (mat - mat.min()) / (mat.max() - mat.min())\n",
    "\n",
    "fig, axs = plt.subplots(1, 2)\n",
    "\n",
    "threshold = 0.2\n",
    "\n",
    "axs[0].imshow(normalize_mat(np.abs(mod_graph.m_coefs)) > 0, cmap='Reds')\n",
    "axs[1].imshow(normalize_mat(np.abs(miss_model.coefs.numpy())) > threshold, cmap='Reds')\n",
    "\n",
    "axs[0].set_title(\"True params\")\n",
    "axs[1].set_title(\"Est. params\")"
   ]
  },
  {
   "cell_type": "code",
   "execution_count": null,
   "metadata": {},
   "outputs": [],
   "source": [
    "log_px, iter_count, acceptance_rate, repetitions_list = model_trainer.train(\n",
    "    data=training_dataset,\n",
    "    print_loss=True, \n",
    "    print_interval=100,\n",
    "    data_missing=True,\n",
    "    min_accept_factor=0.5\n",
    ")"
   ]
  },
  {
   "cell_type": "code",
   "execution_count": null,
   "metadata": {},
   "outputs": [],
   "source": [
    "fig, axs = plt.subplots(1) \n",
    "\n",
    "axs.plot(iter_count, log_px)\n",
    "axs.set_title(\"Log px\")\n",
    "\n",
    "plt.subplots_adjust(wspace=0.4)"
   ]
  },
  {
   "cell_type": "code",
   "execution_count": null,
   "metadata": {},
   "outputs": [],
   "source": [
    "fig, axs = plt.subplots(1, 2)\n",
    "\n",
    "axs[0].imshow(np.abs(sem.weights) > 0)\n",
    "axs[0].set_title(\"GT\")\n",
    "\n",
    "axs[1].imshow(nodags.get_w_adj() > 0.9)\n",
    "axs[1].set_title(\"Estimated\")"
   ]
  },
  {
   "cell_type": "code",
   "execution_count": null,
   "metadata": {},
   "outputs": [],
   "source": []
  }
 ],
 "metadata": {
  "kernelspec": {
   "display_name": "missnodag",
   "language": "python",
   "name": "python3"
  },
  "language_info": {
   "codemirror_mode": {
    "name": "ipython",
    "version": 3
   },
   "file_extension": ".py",
   "mimetype": "text/x-python",
   "name": "python",
   "nbconvert_exporter": "python",
   "pygments_lexer": "ipython3",
   "version": "3.10.15"
  }
 },
 "nbformat": 4,
 "nbformat_minor": 2
}
