{
 "cells": [
  {
   "cell_type": "code",
   "execution_count": null,
   "metadata": {},
   "outputs": [],
   "source": [
    "import numpy as np \n",
    "from matplotlib import pyplot as plt \n",
    "import os \n",
    "import networkx as nx\n",
    "import torch"
   ]
  },
  {
   "cell_type": "code",
   "execution_count": 2,
   "metadata": {},
   "outputs": [],
   "source": [
    "project_dir = '../'\n",
    "\n",
    "os.chdir(project_dir)\n"
   ]
  },
  {
   "cell_type": "code",
   "execution_count": 12,
   "metadata": {},
   "outputs": [],
   "source": [
    "from datagen.missingData import mgraph, missing_value_dataset \n",
    "from datagen.graph import DirectedGraphGenerator\n",
    "from datagen.structuralModels import linearSEM\n",
    "\n",
    "from models.nodags.missing_data_model import missModel\n",
    "from models.nodags.functions import gumbelSoftMLP\n",
    "from models.nodags.resblock import iResBlock\n",
    "from models.nodags.trainer import Trainer\n",
    "\n",
    "from baselines.imputation import *\n",
    "\n",
    "from utils.error_metrics import *"
   ]
  },
  {
   "cell_type": "markdown",
   "metadata": {},
   "source": [
    "## Generate Graph and Data"
   ]
  },
  {
   "cell_type": "code",
   "execution_count": null,
   "metadata": {},
   "outputs": [],
   "source": [
    "n_nodes = 10\n",
    "graph_gen = DirectedGraphGenerator(\n",
    "    nodes = n_nodes,\n",
    "    expected_density = 2, \n",
    "    enforce_dag=False\n",
    ")\n",
    "\n",
    "graph = graph_gen()\n",
    "\n",
    "pos = nx.circular_layout(graph)\n",
    "\n",
    "fig, axs = plt.subplots(1)\n",
    "\n",
    "nx.draw(graph, pos=pos, with_labels=True, ax=axs)"
   ]
  },
  {
   "cell_type": "code",
   "execution_count": 25,
   "metadata": {},
   "outputs": [],
   "source": [
    "sem = linearSEM(\n",
    "    graph=graph,\n",
    "    abs_weight_low=0.6,\n",
    "    noise_scale=0.1,\n",
    "    contractive=True\n",
    ")\n",
    "\n",
    "intervention_targets = [[i] for i in range(n_nodes)]\n",
    "intervention_datasets = list()\n",
    "\n",
    "n_samples = 500\n",
    "\n",
    "for target in intervention_targets:\n",
    "    intervention_datasets.append(\n",
    "        sem.generateData(n_samples=n_samples, intervention_set=target)\n",
    "    )"
   ]
  },
  {
   "cell_type": "code",
   "execution_count": 26,
   "metadata": {},
   "outputs": [],
   "source": [
    "mod_graph = mgraph(\n",
    "    obs_graph=graph,\n",
    "    sem=sem,\n",
    "    missing_model='obs-only',\n",
    "    p=0.1, \n",
    "    max_variance=0.1,\n",
    "    is_mcar=False,\n",
    "    max_child=2\n",
    ")"
   ]
  },
  {
   "cell_type": "code",
   "execution_count": null,
   "metadata": {},
   "outputs": [],
   "source": [
    "fig, axs = plt.subplots(1)\n",
    "\n",
    "vmax = np.abs(mod_graph.m_coefs).max()\n",
    "im = axs.imshow(mod_graph.m_coefs, vmin=-vmax, vmax=vmax, cmap='bwr')\n",
    "\n",
    "_ = fig.colorbar(im)"
   ]
  },
  {
   "cell_type": "markdown",
   "metadata": {},
   "source": [
    "## Testing Missforest and Optimal transport imputation\n",
    "\n",
    "Impute the missing data using either missforest or optimal transport based imputation"
   ]
  },
  {
   "cell_type": "code",
   "execution_count": 28,
   "metadata": {},
   "outputs": [],
   "source": [
    "missing_datasets = list()\n",
    "missing_masks = list()\n",
    "\n",
    "for targets, dataset in zip(intervention_targets, intervention_datasets):\n",
    "    missing_mask, dataset_missing = mod_graph.generatemDataFromSamples(\n",
    "        X=dataset,\n",
    "        intervention_set=targets\n",
    "    )\n",
    "\n",
    "    missing_datasets.append(dataset_missing)\n",
    "    missing_masks.append(missing_mask)\n",
    "\n",
    "final_dataset = np.vstack(tuple(missing_datasets))\n",
    "final_missing_masks = np.vstack(tuple(missing_masks))"
   ]
  },
  {
   "cell_type": "code",
   "execution_count": null,
   "metadata": {},
   "outputs": [],
   "source": [
    "impute_method = \"missforest\" \n",
    "\n",
    "if impute_method == \"missforest\":\n",
    "    imp_dataset = missforest_impute(final_dataset, final_missing_masks)\n",
    "elif impute_method == \"optransport\":\n",
    "    imp_dataset = OT_impute(final_dataset, final_missing_masks)\n",
    "\n",
    "final_datasets = [imp_dataset[i*n_samples:(i+1)*n_samples] for i in range(len(intervention_targets))]\n",
    "\n",
    "intervention_datasets = [\n",
    "    (final_datasets[i], missing_masks[i], missing_datasets[i]) for i in range(len(intervention_targets))\n",
    "]"
   ]
  },
  {
   "cell_type": "code",
   "execution_count": 30,
   "metadata": {},
   "outputs": [],
   "source": [
    "training_dataset = missing_value_dataset(intervention_datasets, intervention_targets)"
   ]
  },
  {
   "cell_type": "markdown",
   "metadata": {},
   "source": [
    "## Initialize NODAGS-Flow"
   ]
  },
  {
   "cell_type": "code",
   "execution_count": 31,
   "metadata": {},
   "outputs": [],
   "source": [
    "causal_mech = gumbelSoftMLP(\n",
    "    n_nodes=n_nodes, \n",
    "    lip_constant=0.9\n",
    ")\n",
    "\n",
    "nodags = iResBlock(\n",
    "    func=causal_mech, \n",
    "    n_power_series=None, \n",
    "    precondition=True\n",
    ")\n",
    "\n",
    "device = torch.device(\"cuda\" if torch.cuda.is_available() else \"cpu\")\n",
    "\n",
    "nodags = nodags.to(device)\n",
    "\n",
    "miss_model = missModel(nodags, is_mcar=False)"
   ]
  },
  {
   "cell_type": "markdown",
   "metadata": {},
   "source": [
    "## Training"
   ]
  },
  {
   "cell_type": "code",
   "execution_count": 32,
   "metadata": {},
   "outputs": [],
   "source": [
    "model_trainer = Trainer(\n",
    "    miss_model=miss_model,\n",
    "    lr=1e-1,\n",
    "    lambda_c=1e-2,\n",
    "    max_epochs=30,\n",
    "    batch_size=1024,\n",
    "    n_lip_iters=5\n",
    ")"
   ]
  },
  {
   "cell_type": "code",
   "execution_count": null,
   "metadata": {},
   "outputs": [],
   "source": [
    "log_px, iter_count, acceptance_rate, repetitions_list = model_trainer.train(\n",
    "    data=training_dataset,\n",
    "    print_loss=True, \n",
    "    print_interval=100,\n",
    "    data_missing=False, # Set to False since we already imputed the missing values\n",
    "    min_accept_factor=0.5\n",
    ")"
   ]
  },
  {
   "cell_type": "code",
   "execution_count": null,
   "metadata": {},
   "outputs": [],
   "source": [
    "fig, axs = plt.subplots(1, 2)\n",
    "\n",
    "axs[0].imshow(np.abs(sem.weights) > 0)\n",
    "axs[0].set_title(\"GT\")\n",
    "\n",
    "axs[1].imshow(nodags.get_w_adj() > 0.75)\n",
    "axs[1].set_title(\"Estimated\")"
   ]
  },
  {
   "cell_type": "code",
   "execution_count": null,
   "metadata": {},
   "outputs": [],
   "source": []
  }
 ],
 "metadata": {
  "kernelspec": {
   "display_name": "missnodag",
   "language": "python",
   "name": "python3"
  },
  "language_info": {
   "codemirror_mode": {
    "name": "ipython",
    "version": 3
   },
   "file_extension": ".py",
   "mimetype": "text/x-python",
   "name": "python",
   "nbconvert_exporter": "python",
   "pygments_lexer": "ipython3",
   "version": "3.10.15"
  }
 },
 "nbformat": 4,
 "nbformat_minor": 2
}
